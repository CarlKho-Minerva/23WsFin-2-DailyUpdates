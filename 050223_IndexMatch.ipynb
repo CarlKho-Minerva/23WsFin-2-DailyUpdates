{
 "cells": [
  {
   "cell_type": "code",
   "execution_count": null,
   "metadata": {},
   "outputs": [],
   "source": [
    "=INDEX(CurrentStudentsByEmail!$A$1:$A$1397, MATCH(B3, CurrentStudentsByEmail!$F$1:$F$1397, 0)) # VLookUp Alternative"
   ]
  },
  {
   "attachments": {},
   "cell_type": "markdown",
   "metadata": {},
   "source": [
    "## WORK https://docs.google.com/spreadsheets/d/1gztYtxhcxddD8xIsiCEK8jnO6URRxZ2DUOdFTZv62EE/edit#gid=618308765 ##\n",
    "\n",
    "Hi @emil@uni.minerva.edu I also wonder why VLookUp is faulty in this sheet.\n",
    "\n",
    "Nonetheless, using INDEX and MATCH result in faster queries. It is also more intuitive ones - personally speaking.\n",
    "\n",
    "So if you feel comfortable using this, that would be better (though there's nothing wrong w VLookUp) \n",
    "\n",
    "https://exceljet.net/articles/index-and-match"
   ]
  },
  {
   "cell_type": "code",
   "execution_count": null,
   "metadata": {},
   "outputs": [],
   "source": []
  }
 ],
 "metadata": {
  "language_info": {
   "name": "python"
  },
  "orig_nbformat": 4
 },
 "nbformat": 4,
 "nbformat_minor": 2
}
